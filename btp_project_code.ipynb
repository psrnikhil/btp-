{
  "nbformat": 4,
  "nbformat_minor": 0,
  "metadata": {
    "colab": {
      "provenance": []
    },
    "kernelspec": {
      "name": "python3",
      "display_name": "Python 3"
    },
    "language_info": {
      "name": "python"
    }
  },
  "cells": [
    {
      "cell_type": "code",
      "metadata": {
        "colab": {
          "base_uri": "https://localhost:8080/",
          "height": 206
        },
        "id": "GlPfGP953q4I",
        "outputId": "b6eb723b-dd53-441c-db81-a61a6816f113"
      },
      "source": [
        "import pandas as pd\n",
        "df=pd.read_csv(\"/content/^NSEI.csv\")\n",
        "df.head()"
      ],
      "execution_count": null,
      "outputs": [
        {
          "output_type": "execute_result",
          "data": {
            "text/html": [
              "<div>\n",
              "<style scoped>\n",
              "    .dataframe tbody tr th:only-of-type {\n",
              "        vertical-align: middle;\n",
              "    }\n",
              "\n",
              "    .dataframe tbody tr th {\n",
              "        vertical-align: top;\n",
              "    }\n",
              "\n",
              "    .dataframe thead th {\n",
              "        text-align: right;\n",
              "    }\n",
              "</style>\n",
              "<table border=\"1\" class=\"dataframe\">\n",
              "  <thead>\n",
              "    <tr style=\"text-align: right;\">\n",
              "      <th></th>\n",
              "      <th>Date</th>\n",
              "      <th>Open</th>\n",
              "      <th>High</th>\n",
              "      <th>Low</th>\n",
              "      <th>Close</th>\n",
              "      <th>Adj Close</th>\n",
              "      <th>Volume</th>\n",
              "    </tr>\n",
              "  </thead>\n",
              "  <tbody>\n",
              "    <tr>\n",
              "      <th>0</th>\n",
              "      <td>2015-01-02</td>\n",
              "      <td>8288.700195</td>\n",
              "      <td>8410.599609</td>\n",
              "      <td>8288.700195</td>\n",
              "      <td>8395.450195</td>\n",
              "      <td>8395.450195</td>\n",
              "      <td>101900.0</td>\n",
              "    </tr>\n",
              "    <tr>\n",
              "      <th>1</th>\n",
              "      <td>2015-01-05</td>\n",
              "      <td>8407.950195</td>\n",
              "      <td>8445.599609</td>\n",
              "      <td>8363.900391</td>\n",
              "      <td>8378.400391</td>\n",
              "      <td>8378.400391</td>\n",
              "      <td>118200.0</td>\n",
              "    </tr>\n",
              "    <tr>\n",
              "      <th>2</th>\n",
              "      <td>2015-01-06</td>\n",
              "      <td>8325.299805</td>\n",
              "      <td>8327.849609</td>\n",
              "      <td>8111.350098</td>\n",
              "      <td>8127.350098</td>\n",
              "      <td>8127.350098</td>\n",
              "      <td>172800.0</td>\n",
              "    </tr>\n",
              "    <tr>\n",
              "      <th>3</th>\n",
              "      <td>2015-01-07</td>\n",
              "      <td>8118.649902</td>\n",
              "      <td>8151.200195</td>\n",
              "      <td>8065.450195</td>\n",
              "      <td>8102.100098</td>\n",
              "      <td>8102.100098</td>\n",
              "      <td>164100.0</td>\n",
              "    </tr>\n",
              "    <tr>\n",
              "      <th>4</th>\n",
              "      <td>2015-01-08</td>\n",
              "      <td>8191.399902</td>\n",
              "      <td>8243.500000</td>\n",
              "      <td>8167.299805</td>\n",
              "      <td>8234.599609</td>\n",
              "      <td>8234.599609</td>\n",
              "      <td>143800.0</td>\n",
              "    </tr>\n",
              "  </tbody>\n",
              "</table>\n",
              "</div>"
            ],
            "text/plain": [
              "         Date         Open         High  ...        Close    Adj Close    Volume\n",
              "0  2015-01-02  8288.700195  8410.599609  ...  8395.450195  8395.450195  101900.0\n",
              "1  2015-01-05  8407.950195  8445.599609  ...  8378.400391  8378.400391  118200.0\n",
              "2  2015-01-06  8325.299805  8327.849609  ...  8127.350098  8127.350098  172800.0\n",
              "3  2015-01-07  8118.649902  8151.200195  ...  8102.100098  8102.100098  164100.0\n",
              "4  2015-01-08  8191.399902  8243.500000  ...  8234.599609  8234.599609  143800.0\n",
              "\n",
              "[5 rows x 7 columns]"
            ]
          },
          "metadata": {},
          "execution_count": 1
        }
      ]
    },
    {
      "cell_type": "code",
      "metadata": {
        "id": "TlvTPQQu4K6b"
      },
      "source": [
        "import numpy as np\n",
        "import matplotlib.pyplot as plt\n",
        "%matplotlib inline\n",
        "import seaborn as sns\n",
        "\n",
        "#setting figure size\n",
        "from matplotlib.pylab import rcParams\n",
        "rcParams['figure.figsize'] = 20,10\n",
        "\n",
        "#for normalizing data\n",
        "from sklearn.preprocessing import MinMaxScaler\n",
        "scaler = MinMaxScaler(feature_range=(0, 1))"
      ],
      "execution_count": null,
      "outputs": []
    },
    {
      "cell_type": "code",
      "metadata": {
        "id": "dpyx5yA74OwK"
      },
      "source": [
        "df.drop('Adj Close',axis=1,inplace=True)"
      ],
      "execution_count": null,
      "outputs": []
    },
    {
      "cell_type": "code",
      "metadata": {
        "colab": {
          "base_uri": "https://localhost:8080/",
          "height": 501
        },
        "id": "mg0hYDX54RBK",
        "outputId": "e808e521-ec22-4d9c-a7b6-40d3a448deef"
      },
      "source": [
        "#setting index as date\n",
        "df['Date'] = pd.to_datetime(df.Date,format='%Y-%m-%d')\n",
        "df.index = df['Date']\n",
        "\n",
        "#plot\n",
        "plt.figure(figsize=(16,8))\n",
        "plt.plot(df['Close'], label='Close Price history')"
      ],
      "execution_count": null,
      "outputs": [
        {
          "output_type": "execute_result",
          "data": {
            "text/plain": [
              "[<matplotlib.lines.Line2D at 0x7fbb0136f910>]"
            ]
          },
          "metadata": {},
          "execution_count": 4
        },
        {
          "output_type": "display_data",
          "data": {
            "image/png": "[encoded data removed]",
            "text/plain": [
              "<Figure size 1152x576 with 1 Axes>"
            ]
          },
          "metadata": {
            "needs_background": "light"
          }
        }
      ]
    },
    {
      "cell_type": "code",
      "metadata": {
        "colab": {
          "base_uri": "https://localhost:8080/"
        },
        "id": "uet3vp9H4Tz5",
        "outputId": "b3ae98d0-aa5d-4881-9ae4-6c76d4a1c8c7"
      },
      "source": [
        "df.fillna(df.mean(),inplace=True)"
      ],
      "execution_count": null,
      "outputs": [
        {
          "output_type": "stream",
          "name": "stderr",
          "text": [
            "/usr/local/lib/python3.7/dist-packages/ipykernel_launcher.py:1: FutureWarning: DataFrame.mean and DataFrame.median with numeric_only=None will include datetime64 and datetime64tz columns in a future version.\n",
            "  \"\"\"Entry point for launching an IPython kernel.\n"
          ]
        }
      ]
    },
    {
      "cell_type": "code",
      "metadata": {
        "colab": {
          "base_uri": "https://localhost:8080/"
        },
        "id": "BpbTQtAe4WON",
        "outputId": "2b567713-4937-40ba-dc60-e4f198cad122"
      },
      "source": [
        "df.isnull().sum()"
      ],
      "execution_count": null,
      "outputs": [
        {
          "output_type": "execute_result",
          "data": {
            "text/plain": [
              "Date      0\n",
              "Open      0\n",
              "High      0\n",
              "Low       0\n",
              "Close     0\n",
              "Volume    0\n",
              "dtype: int64"
            ]
          },
          "metadata": {},
          "execution_count": 6
        }
      ]
    },
    {
      "cell_type": "code",
      "metadata": {
        "id": "cFgsTZl24YRC"
      },
      "source": [
        "y=df['Open']\n",
        "X=df[['High', 'Low', 'Close', 'Volume']]"
      ],
      "execution_count": null,
      "outputs": []
    },
    {
      "cell_type": "code",
      "metadata": {
        "colab": {
          "base_uri": "https://localhost:8080/"
        },
        "id": "djYIIqSY4aG6",
        "outputId": "dfa3b015-e035-46b1-cf74-f2bfad437861"
      },
      "source": [
        "X.isnull().sum()"
      ],
      "execution_count": null,
      "outputs": [
        {
          "output_type": "execute_result",
          "data": {
            "text/plain": [
              "High      0\n",
              "Low       0\n",
              "Close     0\n",
              "Volume    0\n",
              "dtype: int64"
            ]
          },
          "metadata": {},
          "execution_count": 8
        }
      ]
    },
    {
      "cell_type": "code",
      "metadata": {
        "id": "k2pHC_vS4jpR"
      },
      "source": [
        "from sklearn.model_selection import train_test_split"
      ],
      "execution_count": null,
      "outputs": []
    },
    {
      "cell_type": "code",
      "metadata": {
        "id": "E3Cv9yX94lHu"
      },
      "source": [
        "X_train, X_test, y_train, y_test = train_test_split(X, y, test_size=0.33, random_state=42)"
      ],
      "execution_count": null,
      "outputs": []
    },
    {
      "cell_type": "code",
      "metadata": {
        "id": "ZhFrb8_w4cmB"
      },
      "source": [
        "# Import MinMaxScaler\n",
        "\n",
        "from sklearn.preprocessing import MinMaxScaler\n",
        "\n",
        "# Instantiate MinMaxScaler and use it to rescale X_train and X_test\n",
        "scaler = MinMaxScaler(feature_range=(0,1))\n",
        "rescaledX_train = scaler.fit_transform(X_train)\n",
        "rescaledX_test = scaler.fit_transform(X_test)"
      ],
      "execution_count": null,
      "outputs": []
    },
    {
      "cell_type": "code",
      "metadata": {
        "id": "CakteG1d4eUx"
      },
      "source": [
        "import tensorflow as tf"
      ],
      "execution_count": null,
      "outputs": []
    },
    {
      "cell_type": "code",
      "metadata": {
        "id": "XJQmnLr84sQO"
      },
      "source": [
        "from tensorflow.keras.models import Sequential\n",
        "from tensorflow.keras.layers import Dense, Activation\n",
        "from tensorflow.keras.optimizers import Adam"
      ],
      "execution_count": null,
      "outputs": []
    },
    {
      "cell_type": "code",
      "metadata": {
        "id": "wBrVRHEB43H-"
      },
      "source": [
        "model = Sequential()\n",
        "\n",
        "model.add(Dense(19,activation='relu'))\n",
        "model.add(Dense(19,activation='relu'))\n",
        "model.add(Dense(19,activation='relu'))\n",
        "model.add(Dense(19,activation='relu'))\n",
        "model.add(Dense(1))\n",
        "\n",
        "model.compile(optimizer='adam',loss='mse')"
      ],
      "execution_count": null,
      "outputs": []
    },
    {
      "cell_type": "code",
      "metadata": {
        "colab": {
          "base_uri": "https://localhost:8080/"
        },
        "id": "v7QLu_t446mU",
        "outputId": "e1a05f41-9816-4cf2-b0e3-8d4cf158ed85"
      },
      "source": [
        "model.fit(x=rescaledX_train,y=y_train.values,\n",
        "          validation_data=(rescaledX_test,y_test.values),\n",
        "          batch_size=128,epochs=400)"
      ],
      "execution_count": null,
      "outputs": [
        {
          "output_type": "stream",
          "name": "stdout",
          "text": [
            "Epoch 1/400\n",
            "8/8 [==============================] - 1s 28ms/step - loss: 99839288.0000 - val_loss: 100699488.0000\n",
            "Epoch 2/400\n",
            "8/8 [==============================] - 0s 6ms/step - loss: 99837272.0000 - val_loss: 100697376.0000\n",
            "Epoch 3/400\n",
            "8/8 [==============================] - 0s 8ms/step - loss: 99835000.0000 - val_loss: 100694480.0000\n",
            "Epoch 4/400\n",
            "8/8 [==============================] - 0s 7ms/step - loss: 99831864.0000 - val_loss: 100690536.0000\n",
            "Epoch 5/400\n",
            "8/8 [==============================] - 0s 6ms/step - loss: 99827568.0000 - val_loss: 100685072.0000\n",
            "Epoch 6/400\n",
            "8/8 [==============================] - 0s 5ms/step - loss: 99821656.0000 - val_loss: 100677608.0000\n",
            "Epoch 7/400\n",
            "8/8 [==============================] - 0s 6ms/step - loss: 99813584.0000 - val_loss: 100667432.0000\n",
            "Epoch 8/400\n",
            "8/8 [==============================] - 0s 7ms/step - loss: 99802584.0000 - val_loss: 100653552.0000\n",
            "Epoch 9/400\n",
            "8/8 [==============================] - 0s 8ms/step - loss: 99787464.0000 - val_loss: 100634848.0000\n",
            "Epoch 10/400\n",
            "8/8 [==============================] - 0s 5ms/step - loss: 99767280.0000 - val_loss: 100609496.0000\n",
            "Epoch 11/400\n",
            "8/8 [==============================] - 0s 5ms/step - loss: 99739232.0000 - val_loss: 100574232.0000\n",
            "Epoch 12/400\n",
            "8/8 [==============================] - 0s 6ms/step - loss: 99700592.0000 - val_loss: 100525712.0000\n",
            "Epoch 13/400\n",
            "8/8 [==============================] - 0s 8ms/step - loss: 99647256.0000 - val_loss: 100459080.0000\n",
            "Epoch 14/400\n",
            "8/8 [==============================] - 0s 5ms/step - loss: 99574728.0000 - val_loss: 100367464.0000\n",
            "Epoch 15/400\n",
            "8/8 [==============================] - 0s 8ms/step - loss: 99474768.0000 - val_loss: 100243512.0000\n",
            "Epoch 16/400\n",
            "8/8 [==============================] - 0s 8ms/step - loss: 99339848.0000 - val_loss: 100075752.0000\n",
            "Epoch 17/400\n",
            "8/8 [==============================] - 0s 6ms/step - loss: 99158360.0000 - val_loss: 99852336.0000\n",
            "Epoch 18/400\n",
            "8/8 [==============================] - 0s 8ms/step - loss: 98917032.0000 - val_loss: 99559952.0000\n",
            "Epoch 19/400\n",
            "8/8 [==============================] - 0s 5ms/step - loss: 98605992.0000 - val_loss: 99180976.0000\n",
            "Epoch 20/400\n",
            "8/8 [==============================] - 0s 8ms/step - loss: 98200840.0000 - val_loss: 98697712.0000\n",
            "Epoch 21/400\n",
            "8/8 [==============================] - 0s 6ms/step - loss: 97689184.0000 - val_loss: 98085928.0000\n",
            "Epoch 22/400\n",
            "8/8 [==============================] - 0s 5ms/step - loss: 97045032.0000 - val_loss: 97322776.0000\n",
            "Epoch 23/400\n",
            "8/8 [==============================] - 0s 6ms/step - loss: 96243072.0000 - val_loss: 96380640.0000\n",
            "Epoch 24/400\n",
            "8/8 [==============================] - 0s 5ms/step - loss: 95257584.0000 - val_loss: 95229192.0000\n",
            "Epoch 25/400\n",
            "8/8 [==============================] - 0s 8ms/step - loss: 94059808.0000 - val_loss: 93837768.0000\n",
            "Epoch 26/400\n",
            "8/8 [==============================] - 0s 5ms/step - loss: 92616712.0000 - val_loss: 92174256.0000\n",
            "Epoch 27/400\n",
            "8/8 [==============================] - 0s 6ms/step - loss: 90900432.0000 - val_loss: 90191152.0000\n",
            "Epoch 28/400\n",
            "8/8 [==============================] - 0s 6ms/step - loss: 88857488.0000 - val_loss: 87862224.0000\n",
            "Epoch 29/400\n",
            "8/8 [==============================] - 0s 8ms/step - loss: 86474016.0000 - val_loss: 85150080.0000\n",
            "Epoch 30/400\n",
            "8/8 [==============================] - 0s 7ms/step - loss: 83677184.0000 - val_loss: 82041816.0000\n",
            "Epoch 31/400\n",
            "8/8 [==============================] - 0s 5ms/step - loss: 80527432.0000 - val_loss: 78479232.0000\n",
            "Epoch 32/400\n",
            "8/8 [==============================] - 0s 6ms/step - loss: 76903720.0000 - val_loss: 74485816.0000\n",
            "Epoch 33/400\n",
            "8/8 [==============================] - 0s 8ms/step - loss: 72894328.0000 - val_loss: 70018616.0000\n",
            "Epoch 34/400\n",
            "8/8 [==============================] - 0s 6ms/step - loss: 68385296.0000 - val_loss: 65138044.0000\n",
            "Epoch 35/400\n",
            "8/8 [==============================] - 0s 8ms/step - loss: 63500876.0000 - val_loss: 59837768.0000\n",
            "Epoch 36/400\n",
            "8/8 [==============================] - 0s 7ms/step - loss: 58218784.0000 - val_loss: 54180588.0000\n",
            "Epoch 37/400\n",
            "8/8 [==============================] - 0s 5ms/step - loss: 52573576.0000 - val_loss: 48262852.0000\n",
            "Epoch 38/400\n",
            "8/8 [==============================] - 0s 5ms/step - loss: 46736776.0000 - val_loss: 42151368.0000\n",
            "Epoch 39/400\n",
            "8/8 [==============================] - 0s 8ms/step - loss: 40727436.0000 - val_loss: 36000528.0000\n",
            "Epoch 40/400\n",
            "8/8 [==============================] - 0s 7ms/step - loss: 34716220.0000 - val_loss: 29966288.0000\n",
            "Epoch 41/400\n",
            "8/8 [==============================] - 0s 7ms/step - loss: 28866310.0000 - val_loss: 24211500.0000\n",
            "Epoch 42/400\n",
            "8/8 [==============================] - 0s 7ms/step - loss: 23311400.0000 - val_loss: 18932072.0000\n",
            "Epoch 43/400\n",
            "8/8 [==============================] - 0s 8ms/step - loss: 18273568.0000 - val_loss: 14265529.0000\n",
            "Epoch 44/400\n",
            "8/8 [==============================] - 0s 8ms/step - loss: 13825208.0000 - val_loss: 10371843.0000\n",
            "Epoch 45/400\n",
            "8/8 [==============================] - 0s 5ms/step - loss: 10144847.0000 - val_loss: 7302934.0000\n",
            "Epoch 46/400\n",
            "8/8 [==============================] - 0s 5ms/step - loss: 7249959.5000 - val_loss: 5064636.5000\n",
            "Epoch 47/400\n",
            "8/8 [==============================] - 0s 6ms/step - loss: 5131465.5000 - val_loss: 3577303.7500\n",
            "Epoch 48/400\n",
            "8/8 [==============================] - 0s 9ms/step - loss: 3691851.5000 - val_loss: 2705638.7500\n",
            "Epoch 49/400\n",
            "8/8 [==============================] - 0s 8ms/step - loss: 2807219.2500 - val_loss: 2274141.7500\n",
            "Epoch 50/400\n",
            "8/8 [==============================] - 0s 9ms/step - loss: 2319655.2500 - val_loss: 2113645.5000\n",
            "Epoch 51/400\n",
            "8/8 [==============================] - 0s 9ms/step - loss: 2078484.0000 - val_loss: 2090053.3750\n",
            "Epoch 52/400\n",
            "8/8 [==============================] - 0s 6ms/step - loss: 1966995.1250 - val_loss: 2114419.0000\n",
            "Epoch 53/400\n",
            "8/8 [==============================] - 0s 9ms/step - loss: 1924047.3750 - val_loss: 2142712.5000\n",
            "Epoch 54/400\n",
            "8/8 [==============================] - 0s 7ms/step - loss: 1904469.2500 - val_loss: 2159242.7500\n",
            "Epoch 55/400\n",
            "8/8 [==============================] - 0s 9ms/step - loss: 1886939.0000 - val_loss: 2154400.7500\n",
            "Epoch 56/400\n",
            "8/8 [==============================] - 0s 7ms/step - loss: 1874177.0000 - val_loss: 2145015.5000\n",
            "Epoch 57/400\n",
            "8/8 [==============================] - 0s 9ms/step - loss: 1860426.3750 - val_loss: 2129697.2500\n",
            "Epoch 58/400\n",
            "8/8 [==============================] - 0s 7ms/step - loss: 1846780.7500 - val_loss: 2111685.2500\n",
            "Epoch 59/400\n",
            "8/8 [==============================] - 0s 6ms/step - loss: 1832943.2500 - val_loss: 2093754.0000\n",
            "Epoch 60/400\n",
            "8/8 [==============================] - 0s 6ms/step - loss: 1818947.0000 - val_loss: 2075669.7500\n",
            "Epoch 61/400\n",
            "8/8 [==============================] - 0s 8ms/step - loss: 1805501.6250 - val_loss: 2055073.1250\n",
            "Epoch 62/400\n",
            "8/8 [==============================] - 0s 6ms/step - loss: 1791295.5000 - val_loss: 2038815.5000\n",
            "Epoch 63/400\n",
            "8/8 [==============================] - 0s 5ms/step - loss: 1777788.6250 - val_loss: 2026262.1250\n",
            "Epoch 64/400\n",
            "8/8 [==============================] - 0s 5ms/step - loss: 1763481.3750 - val_loss: 2011749.5000\n",
            "Epoch 65/400\n",
            "8/8 [==============================] - 0s 7ms/step - loss: 1749947.7500 - val_loss: 1997508.8750\n",
            "Epoch 66/400\n",
            "8/8 [==============================] - 0s 5ms/step - loss: 1735922.0000 - val_loss: 1980191.6250\n",
            "Epoch 67/400\n",
            "8/8 [==============================] - 0s 5ms/step - loss: 1721854.6250 - val_loss: 1964983.5000\n",
            "Epoch 68/400\n",
            "8/8 [==============================] - 0s 6ms/step - loss: 1708164.6250 - val_loss: 1950648.0000\n",
            "Epoch 69/400\n",
            "8/8 [==============================] - 0s 9ms/step - loss: 1693964.1250 - val_loss: 1936470.1250\n",
            "Epoch 70/400\n",
            "8/8 [==============================] - 0s 6ms/step - loss: 1679928.2500 - val_loss: 1921329.2500\n",
            "Epoch 71/400\n",
            "8/8 [==============================] - 0s 5ms/step - loss: 1665913.5000 - val_loss: 1905046.5000\n",
            "Epoch 72/400\n",
            "8/8 [==============================] - 0s 6ms/step - loss: 1652418.3750 - val_loss: 1893637.7500\n",
            "Epoch 73/400\n",
            "8/8 [==============================] - 0s 5ms/step - loss: 1637880.5000 - val_loss: 1878946.2500\n",
            "Epoch 74/400\n",
            "8/8 [==============================] - 0s 5ms/step - loss: 1624053.0000 - val_loss: 1860552.0000\n",
            "Epoch 75/400\n",
            "8/8 [==============================] - 0s 10ms/step - loss: 1609918.6250 - val_loss: 1845282.0000\n",
            "Epoch 76/400\n",
            "8/8 [==============================] - 0s 6ms/step - loss: 1595981.3750 - val_loss: 1830714.1250\n",
            "Epoch 77/400\n",
            "8/8 [==============================] - 0s 8ms/step - loss: 1581818.8750 - val_loss: 1812506.0000\n",
            "Epoch 78/400\n",
            "8/8 [==============================] - 0s 8ms/step - loss: 1567813.2500 - val_loss: 1796555.8750\n",
            "Epoch 79/400\n",
            "8/8 [==============================] - 0s 5ms/step - loss: 1553873.2500 - val_loss: 1784615.0000\n",
            "Epoch 80/400\n",
            "8/8 [==============================] - 0s 6ms/step - loss: 1539775.6250 - val_loss: 1772322.3750\n",
            "Epoch 81/400\n",
            "8/8 [==============================] - 0s 8ms/step - loss: 1526019.3750 - val_loss: 1758121.3750\n",
            "Epoch 82/400\n",
            "8/8 [==============================] - 0s 6ms/step - loss: 1512022.7500 - val_loss: 1740516.1250\n",
            "Epoch 83/400\n",
            "8/8 [==============================] - 0s 6ms/step - loss: 1497987.2500 - val_loss: 1728576.1250\n",
            "Epoch 84/400\n",
            "8/8 [==============================] - 0s 6ms/step - loss: 1484287.1250 - val_loss: 1709889.7500\n",
            "Epoch 85/400\n",
            "8/8 [==============================] - 0s 8ms/step - loss: 1470018.5000 - val_loss: 1693799.8750\n",
            "Epoch 86/400\n",
            "8/8 [==============================] - 0s 8ms/step - loss: 1456177.2500 - val_loss: 1677679.0000\n",
            "Epoch 87/400\n",
            "8/8 [==============================] - 0s 8ms/step - loss: 1442211.1250 - val_loss: 1667212.6250\n",
            "Epoch 88/400\n",
            "8/8 [==============================] - 0s 8ms/step - loss: 1428379.6250 - val_loss: 1652535.3750\n",
            "Epoch 89/400\n",
            "8/8 [==============================] - 0s 5ms/step - loss: 1414450.5000 - val_loss: 1635442.8750\n",
            "Epoch 90/400\n",
            "8/8 [==============================] - 0s 8ms/step - loss: 1400522.2500 - val_loss: 1620086.0000\n",
            "Epoch 91/400\n",
            "8/8 [==============================] - 0s 5ms/step - loss: 1386716.8750 - val_loss: 1602690.6250\n",
            "Epoch 92/400\n",
            "8/8 [==============================] - 0s 6ms/step - loss: 1372805.0000 - val_loss: 1586600.6250\n",
            "Epoch 93/400\n",
            "8/8 [==============================] - 0s 6ms/step - loss: 1359158.1250 - val_loss: 1572626.6250\n",
            "Epoch 94/400\n",
            "8/8 [==============================] - 0s 7ms/step - loss: 1345836.3750 - val_loss: 1557652.0000\n",
            "Epoch 95/400\n",
            "8/8 [==============================] - 0s 11ms/step - loss: 1331925.7500 - val_loss: 1541843.1250\n",
            "Epoch 96/400\n",
            "8/8 [==============================] - 0s 6ms/step - loss: 1318138.1250 - val_loss: 1530610.3750\n",
            "Epoch 97/400\n",
            "8/8 [==============================] - 0s 5ms/step - loss: 1304509.5000 - val_loss: 1516446.0000\n",
            "Epoch 98/400\n",
            "8/8 [==============================] - 0s 8ms/step - loss: 1290830.2500 - val_loss: 1504313.7500\n",
            "Epoch 99/400\n",
            "8/8 [==============================] - 0s 5ms/step - loss: 1277446.7500 - val_loss: 1487584.7500\n",
            "Epoch 100/400\n",
            "8/8 [==============================] - 0s 8ms/step - loss: 1263615.0000 - val_loss: 1472315.1250\n",
            "Epoch 101/400\n",
            "8/8 [==============================] - 0s 5ms/step - loss: 1250539.0000 - val_loss: 1454509.1250\n",
            "Epoch 102/400\n",
            "8/8 [==============================] - 0s 6ms/step - loss: 1236839.6250 - val_loss: 1442111.6250\n",
            "Epoch 103/400\n",
            "8/8 [==============================] - 0s 5ms/step - loss: 1223456.6250 - val_loss: 1426599.0000\n",
            "Epoch 104/400\n",
            "8/8 [==============================] - 0s 8ms/step - loss: 1210159.1250 - val_loss: 1410351.6250\n",
            "Epoch 105/400\n",
            "8/8 [==============================] - 0s 8ms/step - loss: 1196712.3750 - val_loss: 1397922.0000\n",
            "Epoch 106/400\n",
            "8/8 [==============================] - 0s 9ms/step - loss: 1183367.0000 - val_loss: 1384676.3750\n",
            "Epoch 107/400\n",
            "8/8 [==============================] - 0s 5ms/step - loss: 1170164.5000 - val_loss: 1369127.3750\n",
            "Epoch 108/400\n",
            "8/8 [==============================] - 0s 5ms/step - loss: 1156930.0000 - val_loss: 1355917.3750\n",
            "Epoch 109/400\n",
            "8/8 [==============================] - 0s 6ms/step - loss: 1143971.0000 - val_loss: 1339387.5000\n",
            "Epoch 110/400\n",
            "8/8 [==============================] - 0s 7ms/step - loss: 1130650.8750 - val_loss: 1324746.3750\n",
            "Epoch 111/400\n",
            "8/8 [==============================] - 0s 6ms/step - loss: 1117606.3750 - val_loss: 1311010.0000\n",
            "Epoch 112/400\n",
            "8/8 [==============================] - 0s 7ms/step - loss: 1104824.5000 - val_loss: 1297197.2500\n",
            "Epoch 113/400\n",
            "8/8 [==============================] - 0s 8ms/step - loss: 1091766.0000 - val_loss: 1282667.3750\n",
            "Epoch 114/400\n",
            "8/8 [==============================] - 0s 5ms/step - loss: 1079042.8750 - val_loss: 1269238.6250\n",
            "Epoch 115/400\n",
            "8/8 [==============================] - 0s 5ms/step - loss: 1066265.7500 - val_loss: 1253731.1250\n",
            "Epoch 116/400\n",
            "8/8 [==============================] - 0s 8ms/step - loss: 1053439.3750 - val_loss: 1239360.0000\n",
            "Epoch 117/400\n",
            "8/8 [==============================] - 0s 7ms/step - loss: 1040742.6875 - val_loss: 1226669.5000\n",
            "Epoch 118/400\n",
            "8/8 [==============================] - 0s 6ms/step - loss: 1028516.4375 - val_loss: 1209332.7500\n",
            "Epoch 119/400\n",
            "8/8 [==============================] - 0s 5ms/step - loss: 1015673.5625 - val_loss: 1198443.6250\n",
            "Epoch 120/400\n",
            "8/8 [==============================] - 0s 6ms/step - loss: 1003171.3750 - val_loss: 1186226.7500\n",
            "Epoch 121/400\n",
            "8/8 [==============================] - 0s 7ms/step - loss: 990989.0625 - val_loss: 1173818.6250\n",
            "Epoch 122/400\n",
            "8/8 [==============================] - 0s 5ms/step - loss: 979104.3750 - val_loss: 1154493.2500\n",
            "Epoch 123/400\n",
            "8/8 [==============================] - 0s 6ms/step - loss: 966065.5000 - val_loss: 1144357.7500\n",
            "Epoch 124/400\n",
            "8/8 [==============================] - 0s 8ms/step - loss: 954155.0000 - val_loss: 1134279.6250\n",
            "Epoch 125/400\n",
            "8/8 [==============================] - 0s 5ms/step - loss: 941775.0000 - val_loss: 1119116.6250\n",
            "Epoch 126/400\n",
            "8/8 [==============================] - 0s 5ms/step - loss: 929563.1250 - val_loss: 1105162.1250\n",
            "Epoch 127/400\n",
            "8/8 [==============================] - 0s 6ms/step - loss: 917558.0625 - val_loss: 1092290.5000\n",
            "Epoch 128/400\n",
            "8/8 [==============================] - 0s 7ms/step - loss: 905513.2500 - val_loss: 1078869.1250\n",
            "Epoch 129/400\n",
            "8/8 [==============================] - 0s 6ms/step - loss: 893571.5000 - val_loss: 1063485.5000\n",
            "Epoch 130/400\n",
            "8/8 [==============================] - 0s 6ms/step - loss: 882213.6875 - val_loss: 1047833.3750\n",
            "Epoch 131/400\n",
            "8/8 [==============================] - 0s 6ms/step - loss: 870078.0625 - val_loss: 1035126.2500\n",
            "Epoch 132/400\n",
            "8/8 [==============================] - 0s 8ms/step - loss: 858545.0000 - val_loss: 1023912.5625\n",
            "Epoch 133/400\n",
            "8/8 [==============================] - 0s 5ms/step - loss: 846874.2500 - val_loss: 1010695.5625\n",
            "Epoch 134/400\n",
            "8/8 [==============================] - 0s 5ms/step - loss: 835166.6250 - val_loss: 999319.4375\n",
            "Epoch 135/400\n",
            "8/8 [==============================] - 0s 6ms/step - loss: 823799.0625 - val_loss: 986428.5625\n",
            "Epoch 136/400\n",
            "8/8 [==============================] - 0s 6ms/step - loss: 812542.6875 - val_loss: 975077.9375\n",
            "Epoch 137/400\n",
            "8/8 [==============================] - 0s 5ms/step - loss: 801155.6875 - val_loss: 961892.1875\n",
            "Epoch 138/400\n",
            "8/8 [==============================] - 0s 6ms/step - loss: 789861.5000 - val_loss: 949297.7500\n",
            "Epoch 139/400\n",
            "8/8 [==============================] - 0s 8ms/step - loss: 778765.3750 - val_loss: 935753.6875\n",
            "Epoch 140/400\n",
            "8/8 [==============================] - 0s 6ms/step - loss: 767614.6250 - val_loss: 921981.7500\n",
            "Epoch 141/400\n",
            "8/8 [==============================] - 0s 8ms/step - loss: 756780.1250 - val_loss: 909299.1875\n",
            "Epoch 142/400\n",
            "8/8 [==============================] - 0s 8ms/step - loss: 745614.6250 - val_loss: 898926.1250\n",
            "Epoch 143/400\n",
            "8/8 [==============================] - 0s 7ms/step - loss: 735060.4375 - val_loss: 889893.2500\n",
            "Epoch 144/400\n",
            "8/8 [==============================] - 0s 5ms/step - loss: 724270.4375 - val_loss: 876302.8750\n",
            "Epoch 145/400\n",
            "8/8 [==============================] - 0s 7ms/step - loss: 713478.4375 - val_loss: 866279.4375\n",
            "Epoch 146/400\n",
            "8/8 [==============================] - 0s 8ms/step - loss: 702872.1250 - val_loss: 851481.8750\n",
            "Epoch 147/400\n",
            "8/8 [==============================] - 0s 5ms/step - loss: 692436.8125 - val_loss: 836041.8750\n",
            "Epoch 148/400\n",
            "8/8 [==============================] - 0s 5ms/step - loss: 682247.9375 - val_loss: 827529.3750\n",
            "Epoch 149/400\n",
            "8/8 [==============================] - 0s 9ms/step - loss: 671724.0625 - val_loss: 813447.5625\n",
            "Epoch 150/400\n",
            "8/8 [==============================] - 0s 7ms/step - loss: 661581.8125 - val_loss: 802553.1875\n",
            "Epoch 151/400\n",
            "8/8 [==============================] - 0s 8ms/step - loss: 651285.7500 - val_loss: 790888.6875\n",
            "Epoch 152/400\n",
            "8/8 [==============================] - 0s 8ms/step - loss: 641272.6875 - val_loss: 780549.1250\n",
            "Epoch 153/400\n",
            "8/8 [==============================] - 0s 7ms/step - loss: 631374.5625 - val_loss: 770572.6250\n",
            "Epoch 154/400\n",
            "8/8 [==============================] - 0s 8ms/step - loss: 621374.8750 - val_loss: 759410.1250\n",
            "Epoch 155/400\n",
            "8/8 [==============================] - 0s 6ms/step - loss: 611572.3125 - val_loss: 748148.9375\n",
            "Epoch 156/400\n",
            "8/8 [==============================] - 0s 7ms/step - loss: 601856.1875 - val_loss: 737231.0625\n",
            "Epoch 157/400\n",
            "8/8 [==============================] - 0s 7ms/step - loss: 592224.1875 - val_loss: 727125.8125\n",
            "Epoch 158/400\n",
            "8/8 [==============================] - 0s 5ms/step - loss: 582783.3125 - val_loss: 715748.9375\n",
            "Epoch 159/400\n",
            "8/8 [==============================] - 0s 5ms/step - loss: 573127.1875 - val_loss: 706800.0625\n",
            "Epoch 160/400\n",
            "8/8 [==============================] - 0s 7ms/step - loss: 563946.8125 - val_loss: 697718.8750\n",
            "Epoch 161/400\n",
            "8/8 [==============================] - 0s 6ms/step - loss: 554720.0625 - val_loss: 684141.3125\n",
            "Epoch 162/400\n",
            "8/8 [==============================] - 0s 6ms/step - loss: 545363.1875 - val_loss: 672757.6875\n",
            "Epoch 163/400\n",
            "8/8 [==============================] - 0s 6ms/step - loss: 536416.5625 - val_loss: 661804.1250\n",
            "Epoch 164/400\n",
            "8/8 [==============================] - 0s 7ms/step - loss: 527269.5625 - val_loss: 653211.6250\n",
            "Epoch 165/400\n",
            "8/8 [==============================] - 0s 5ms/step - loss: 518392.2188 - val_loss: 642643.1875\n",
            "Epoch 166/400\n",
            "8/8 [==============================] - 0s 6ms/step - loss: 509706.7812 - val_loss: 635581.7500\n",
            "Epoch 167/400\n",
            "8/8 [==============================] - 0s 6ms/step - loss: 500984.9688 - val_loss: 625806.5000\n",
            "Epoch 168/400\n",
            "8/8 [==============================] - 0s 9ms/step - loss: 492394.2500 - val_loss: 612218.7500\n",
            "Epoch 169/400\n",
            "8/8 [==============================] - 0s 8ms/step - loss: 483855.6250 - val_loss: 603618.2500\n",
            "Epoch 170/400\n",
            "8/8 [==============================] - 0s 5ms/step - loss: 475286.8438 - val_loss: 591564.6250\n",
            "Epoch 171/400\n",
            "8/8 [==============================] - 0s 8ms/step - loss: 466968.1875 - val_loss: 583559.5625\n",
            "Epoch 172/400\n",
            "8/8 [==============================] - 0s 8ms/step - loss: 458686.8750 - val_loss: 575211.0000\n",
            "Epoch 173/400\n",
            "8/8 [==============================] - 0s 6ms/step - loss: 450509.1875 - val_loss: 564488.4375\n",
            "Epoch 174/400\n",
            "8/8 [==============================] - 0s 8ms/step - loss: 442474.1875 - val_loss: 554637.0625\n",
            "Epoch 175/400\n",
            "8/8 [==============================] - 0s 6ms/step - loss: 434577.0312 - val_loss: 545006.8750\n",
            "Epoch 176/400\n",
            "8/8 [==============================] - 0s 6ms/step - loss: 426620.1875 - val_loss: 536561.7500\n",
            "Epoch 177/400\n",
            "8/8 [==============================] - 0s 5ms/step - loss: 418732.8750 - val_loss: 530850.0625\n",
            "Epoch 178/400\n",
            "8/8 [==============================] - 0s 6ms/step - loss: 411150.6250 - val_loss: 522004.6875\n",
            "Epoch 179/400\n",
            "8/8 [==============================] - 0s 8ms/step - loss: 403547.1250 - val_loss: 512498.8438\n",
            "Epoch 180/400\n",
            "8/8 [==============================] - 0s 8ms/step - loss: 396075.6562 - val_loss: 502622.5625\n",
            "Epoch 181/400\n",
            "8/8 [==============================] - 0s 8ms/step - loss: 388705.2500 - val_loss: 493396.2812\n",
            "Epoch 182/400\n",
            "8/8 [==============================] - 0s 9ms/step - loss: 381376.3125 - val_loss: 486794.6250\n",
            "Epoch 183/400\n",
            "8/8 [==============================] - 0s 9ms/step - loss: 374155.0312 - val_loss: 477197.1875\n",
            "Epoch 184/400\n",
            "8/8 [==============================] - 0s 9ms/step - loss: 367036.4375 - val_loss: 468180.7812\n",
            "Epoch 185/400\n",
            "8/8 [==============================] - 0s 7ms/step - loss: 359825.4688 - val_loss: 461068.2500\n",
            "Epoch 186/400\n",
            "8/8 [==============================] - 0s 6ms/step - loss: 353063.8750 - val_loss: 453692.5000\n",
            "Epoch 187/400\n",
            "8/8 [==============================] - 0s 6ms/step - loss: 346093.5938 - val_loss: 444803.4062\n",
            "Epoch 188/400\n",
            "8/8 [==============================] - 0s 6ms/step - loss: 339415.7188 - val_loss: 436737.3125\n",
            "Epoch 189/400\n",
            "8/8 [==============================] - 0s 9ms/step - loss: 332689.9062 - val_loss: 427043.4375\n",
            "Epoch 190/400\n",
            "8/8 [==============================] - 0s 6ms/step - loss: 326255.5625 - val_loss: 419613.3438\n",
            "Epoch 191/400\n",
            "8/8 [==============================] - 0s 6ms/step - loss: 319829.0000 - val_loss: 415032.8125\n",
            "Epoch 192/400\n",
            "8/8 [==============================] - 0s 8ms/step - loss: 313233.7500 - val_loss: 407364.4375\n",
            "Epoch 193/400\n",
            "8/8 [==============================] - 0s 8ms/step - loss: 306931.6250 - val_loss: 399609.1250\n",
            "Epoch 194/400\n",
            "8/8 [==============================] - 0s 8ms/step - loss: 300818.5000 - val_loss: 390992.3750\n",
            "Epoch 195/400\n",
            "8/8 [==============================] - 0s 9ms/step - loss: 294698.4062 - val_loss: 384686.5312\n",
            "Epoch 196/400\n",
            "8/8 [==============================] - 0s 8ms/step - loss: 288577.4688 - val_loss: 378233.0625\n",
            "Epoch 197/400\n",
            "8/8 [==============================] - 0s 8ms/step - loss: 282473.7188 - val_loss: 369941.5312\n",
            "Epoch 198/400\n",
            "8/8 [==============================] - 0s 6ms/step - loss: 276876.5312 - val_loss: 362183.2188\n",
            "Epoch 199/400\n",
            "8/8 [==============================] - 0s 6ms/step - loss: 271119.7188 - val_loss: 354340.5938\n",
            "Epoch 200/400\n",
            "8/8 [==============================] - 0s 6ms/step - loss: 265469.5625 - val_loss: 347570.3750\n",
            "Epoch 201/400\n",
            "8/8 [==============================] - 0s 9ms/step - loss: 259974.5781 - val_loss: 343584.2500\n",
            "Epoch 202/400\n",
            "8/8 [==============================] - 0s 6ms/step - loss: 254302.2656 - val_loss: 337618.9375\n",
            "Epoch 203/400\n",
            "8/8 [==============================] - 0s 8ms/step - loss: 248986.1562 - val_loss: 333605.5000\n",
            "Epoch 204/400\n",
            "8/8 [==============================] - 0s 7ms/step - loss: 243743.6250 - val_loss: 326935.5000\n",
            "Epoch 205/400\n",
            "8/8 [==============================] - 0s 7ms/step - loss: 238446.5156 - val_loss: 319446.2500\n",
            "Epoch 206/400\n",
            "8/8 [==============================] - 0s 6ms/step - loss: 233273.1250 - val_loss: 311037.4375\n",
            "Epoch 207/400\n",
            "8/8 [==============================] - 0s 8ms/step - loss: 228399.2188 - val_loss: 303316.7188\n",
            "Epoch 208/400\n",
            "8/8 [==============================] - 0s 9ms/step - loss: 223319.9531 - val_loss: 298541.6562\n",
            "Epoch 209/400\n",
            "8/8 [==============================] - 0s 9ms/step - loss: 218526.7656 - val_loss: 295377.9375\n",
            "Epoch 210/400\n",
            "8/8 [==============================] - 0s 8ms/step - loss: 213659.7188 - val_loss: 289436.3125\n",
            "Epoch 211/400\n",
            "8/8 [==============================] - 0s 8ms/step - loss: 208971.8906 - val_loss: 282280.3750\n",
            "Epoch 212/400\n",
            "8/8 [==============================] - 0s 6ms/step - loss: 204251.2344 - val_loss: 276909.0312\n",
            "Epoch 213/400\n",
            "8/8 [==============================] - 0s 8ms/step - loss: 199741.1719 - val_loss: 271093.0000\n",
            "Epoch 214/400\n",
            "8/8 [==============================] - 0s 9ms/step - loss: 195287.9219 - val_loss: 266158.3438\n",
            "Epoch 215/400\n",
            "8/8 [==============================] - 0s 6ms/step - loss: 190920.8594 - val_loss: 260069.8125\n",
            "Epoch 216/400\n",
            "8/8 [==============================] - 0s 6ms/step - loss: 186598.4375 - val_loss: 256143.3750\n",
            "Epoch 217/400\n",
            "8/8 [==============================] - 0s 6ms/step - loss: 182427.7188 - val_loss: 249649.3438\n",
            "Epoch 218/400\n",
            "8/8 [==============================] - 0s 6ms/step - loss: 178156.5781 - val_loss: 245147.1875\n",
            "Epoch 219/400\n",
            "8/8 [==============================] - 0s 8ms/step - loss: 174163.8750 - val_loss: 240272.1562\n",
            "Epoch 220/400\n",
            "8/8 [==============================] - 0s 6ms/step - loss: 170151.5469 - val_loss: 235662.5312\n",
            "Epoch 221/400\n",
            "8/8 [==============================] - 0s 9ms/step - loss: 166204.5781 - val_loss: 230766.1094\n",
            "Epoch 222/400\n",
            "8/8 [==============================] - 0s 6ms/step - loss: 162417.7656 - val_loss: 226973.3281\n",
            "Epoch 223/400\n",
            "8/8 [==============================] - 0s 8ms/step - loss: 158760.0156 - val_loss: 220821.1562\n",
            "Epoch 224/400\n",
            "8/8 [==============================] - 0s 6ms/step - loss: 154917.1719 - val_loss: 217583.0469\n",
            "Epoch 225/400\n",
            "8/8 [==============================] - 0s 9ms/step - loss: 151308.8281 - val_loss: 213623.4531\n",
            "Epoch 226/400\n",
            "8/8 [==============================] - 0s 9ms/step - loss: 147758.3281 - val_loss: 207250.9375\n",
            "Epoch 227/400\n",
            "8/8 [==============================] - 0s 6ms/step - loss: 144246.5312 - val_loss: 202822.8906\n",
            "Epoch 228/400\n",
            "8/8 [==============================] - 0s 8ms/step - loss: 140809.5938 - val_loss: 199420.8281\n",
            "Epoch 229/400\n",
            "8/8 [==============================] - 0s 8ms/step - loss: 137510.4688 - val_loss: 195633.3281\n",
            "Epoch 230/400\n",
            "8/8 [==============================] - 0s 9ms/step - loss: 134192.1719 - val_loss: 191540.5625\n",
            "Epoch 231/400\n",
            "8/8 [==============================] - 0s 9ms/step - loss: 130991.8984 - val_loss: 187682.0625\n",
            "Epoch 232/400\n",
            "8/8 [==============================] - 0s 5ms/step - loss: 127903.4219 - val_loss: 183746.1094\n",
            "Epoch 233/400\n",
            "8/8 [==============================] - 0s 9ms/step - loss: 124813.2344 - val_loss: 179239.7031\n",
            "Epoch 234/400\n",
            "8/8 [==============================] - 0s 8ms/step - loss: 121792.3828 - val_loss: 175427.8594\n",
            "Epoch 235/400\n",
            "8/8 [==============================] - 0s 9ms/step - loss: 118927.2812 - val_loss: 172277.2812\n",
            "Epoch 236/400\n",
            "8/8 [==============================] - 0s 8ms/step - loss: 116045.9141 - val_loss: 168383.5781\n",
            "Epoch 237/400\n",
            "8/8 [==============================] - 0s 6ms/step - loss: 113221.3125 - val_loss: 163707.7969\n",
            "Epoch 238/400\n",
            "8/8 [==============================] - 0s 8ms/step - loss: 110460.0234 - val_loss: 160812.9219\n",
            "Epoch 239/400\n",
            "8/8 [==============================] - 0s 6ms/step - loss: 107861.3125 - val_loss: 157563.3594\n",
            "Epoch 240/400\n",
            "8/8 [==============================] - 0s 8ms/step - loss: 105168.7031 - val_loss: 154906.4844\n",
            "Epoch 241/400\n",
            "8/8 [==============================] - 0s 6ms/step - loss: 102607.9453 - val_loss: 152963.5156\n",
            "Epoch 242/400\n",
            "8/8 [==============================] - 0s 8ms/step - loss: 100135.2500 - val_loss: 149347.8594\n",
            "Epoch 243/400\n",
            "8/8 [==============================] - 0s 6ms/step - loss: 97725.5781 - val_loss: 144609.7031\n",
            "Epoch 244/400\n",
            "8/8 [==============================] - 0s 8ms/step - loss: 95283.3047 - val_loss: 141819.9688\n",
            "Epoch 245/400\n",
            "8/8 [==============================] - 0s 8ms/step - loss: 92980.8750 - val_loss: 139385.8438\n",
            "Epoch 246/400\n",
            "8/8 [==============================] - 0s 5ms/step - loss: 90689.6953 - val_loss: 136403.0469\n",
            "Epoch 247/400\n",
            "8/8 [==============================] - 0s 8ms/step - loss: 88442.3203 - val_loss: 133562.6250\n",
            "Epoch 248/400\n",
            "8/8 [==============================] - 0s 8ms/step - loss: 86256.1797 - val_loss: 130400.2812\n",
            "Epoch 249/400\n",
            "8/8 [==============================] - 0s 10ms/step - loss: 84289.0703 - val_loss: 126278.6406\n",
            "Epoch 250/400\n",
            "8/8 [==============================] - 0s 8ms/step - loss: 82106.4375 - val_loss: 124641.7969\n",
            "Epoch 251/400\n",
            "8/8 [==============================] - 0s 5ms/step - loss: 80049.5781 - val_loss: 122168.6016\n",
            "Epoch 252/400\n",
            "8/8 [==============================] - 0s 7ms/step - loss: 78059.7031 - val_loss: 120395.3438\n",
            "Epoch 253/400\n",
            "8/8 [==============================] - 0s 6ms/step - loss: 76175.5938 - val_loss: 117441.1641\n",
            "Epoch 254/400\n",
            "8/8 [==============================] - 0s 7ms/step - loss: 74283.1016 - val_loss: 114439.1953\n",
            "Epoch 255/400\n",
            "8/8 [==============================] - 0s 6ms/step - loss: 72445.0703 - val_loss: 112572.6953\n",
            "Epoch 256/400\n",
            "8/8 [==============================] - 0s 6ms/step - loss: 70686.7656 - val_loss: 109533.5156\n",
            "Epoch 257/400\n",
            "8/8 [==============================] - 0s 6ms/step - loss: 68921.0469 - val_loss: 107166.6406\n",
            "Epoch 258/400\n",
            "8/8 [==============================] - 0s 6ms/step - loss: 67235.7422 - val_loss: 104997.5000\n",
            "Epoch 259/400\n",
            "8/8 [==============================] - 0s 6ms/step - loss: 65601.3516 - val_loss: 103537.3203\n",
            "Epoch 260/400\n",
            "8/8 [==============================] - 0s 5ms/step - loss: 64016.4336 - val_loss: 100615.0703\n",
            "Epoch 261/400\n",
            "8/8 [==============================] - 0s 9ms/step - loss: 62438.4492 - val_loss: 98295.9219\n",
            "Epoch 262/400\n",
            "8/8 [==============================] - 0s 8ms/step - loss: 60868.5039 - val_loss: 96991.8203\n",
            "Epoch 263/400\n",
            "8/8 [==============================] - 0s 6ms/step - loss: 59411.8984 - val_loss: 95368.2812\n",
            "Epoch 264/400\n",
            "8/8 [==============================] - 0s 6ms/step - loss: 57963.5977 - val_loss: 92632.9844\n",
            "Epoch 265/400\n",
            "8/8 [==============================] - 0s 6ms/step - loss: 56556.8945 - val_loss: 90478.6250\n",
            "Epoch 266/400\n",
            "8/8 [==============================] - 0s 8ms/step - loss: 55177.2188 - val_loss: 88610.6641\n",
            "Epoch 267/400\n",
            "8/8 [==============================] - 0s 8ms/step - loss: 53852.7148 - val_loss: 87216.5391\n",
            "Epoch 268/400\n",
            "8/8 [==============================] - 0s 9ms/step - loss: 52549.5586 - val_loss: 85012.1328\n",
            "Epoch 269/400\n",
            "8/8 [==============================] - 0s 6ms/step - loss: 51290.9102 - val_loss: 83134.4922\n",
            "Epoch 270/400\n",
            "8/8 [==============================] - 0s 5ms/step - loss: 50054.1016 - val_loss: 81319.8594\n",
            "Epoch 271/400\n",
            "8/8 [==============================] - 0s 6ms/step - loss: 48849.9375 - val_loss: 80262.2812\n",
            "Epoch 272/400\n",
            "8/8 [==============================] - 0s 6ms/step - loss: 47665.1016 - val_loss: 78324.5469\n",
            "Epoch 273/400\n",
            "8/8 [==============================] - 0s 6ms/step - loss: 46535.5000 - val_loss: 76599.8594\n",
            "Epoch 274/400\n",
            "8/8 [==============================] - 0s 8ms/step - loss: 45417.5938 - val_loss: 75098.3438\n",
            "Epoch 275/400\n",
            "8/8 [==============================] - 0s 8ms/step - loss: 44361.9258 - val_loss: 73494.5703\n",
            "Epoch 276/400\n",
            "8/8 [==============================] - 0s 8ms/step - loss: 43315.2500 - val_loss: 72531.3203\n",
            "Epoch 277/400\n",
            "8/8 [==============================] - 0s 8ms/step - loss: 42280.3555 - val_loss: 70866.9141\n",
            "Epoch 278/400\n",
            "8/8 [==============================] - 0s 6ms/step - loss: 41298.0391 - val_loss: 69388.6953\n",
            "Epoch 279/400\n",
            "8/8 [==============================] - 0s 9ms/step - loss: 40326.0000 - val_loss: 67687.5000\n",
            "Epoch 280/400\n",
            "8/8 [==============================] - 0s 8ms/step - loss: 39406.4180 - val_loss: 66538.7656\n",
            "Epoch 281/400\n",
            "8/8 [==============================] - 0s 6ms/step - loss: 38478.7031 - val_loss: 65308.3711\n",
            "Epoch 282/400\n",
            "8/8 [==============================] - 0s 8ms/step - loss: 37576.4062 - val_loss: 63792.7344\n",
            "Epoch 283/400\n",
            "8/8 [==============================] - 0s 6ms/step - loss: 36702.6562 - val_loss: 62152.9336\n",
            "Epoch 284/400\n",
            "8/8 [==============================] - 0s 6ms/step - loss: 35880.1367 - val_loss: 60982.6094\n",
            "Epoch 285/400\n",
            "8/8 [==============================] - 0s 7ms/step - loss: 35044.3008 - val_loss: 60157.9141\n",
            "Epoch 286/400\n",
            "8/8 [==============================] - 0s 7ms/step - loss: 34265.0977 - val_loss: 58692.3125\n",
            "Epoch 287/400\n",
            "8/8 [==============================] - 0s 8ms/step - loss: 33491.1641 - val_loss: 57579.2305\n",
            "Epoch 288/400\n",
            "8/8 [==============================] - 0s 9ms/step - loss: 32706.8047 - val_loss: 56890.2266\n",
            "Epoch 289/400\n",
            "8/8 [==============================] - 0s 6ms/step - loss: 31993.9199 - val_loss: 55949.0625\n",
            "Epoch 290/400\n",
            "8/8 [==============================] - 0s 8ms/step - loss: 31268.2246 - val_loss: 54871.7305\n",
            "Epoch 291/400\n",
            "8/8 [==============================] - 0s 6ms/step - loss: 30582.7969 - val_loss: 53538.5391\n",
            "Epoch 292/400\n",
            "8/8 [==============================] - 0s 8ms/step - loss: 29900.7441 - val_loss: 52021.8359\n",
            "Epoch 293/400\n",
            "8/8 [==============================] - 0s 8ms/step - loss: 29269.0996 - val_loss: 50908.5352\n",
            "Epoch 294/400\n",
            "8/8 [==============================] - 0s 8ms/step - loss: 28637.4629 - val_loss: 50288.2891\n",
            "Epoch 295/400\n",
            "8/8 [==============================] - 0s 8ms/step - loss: 27989.4668 - val_loss: 49452.9297\n",
            "Epoch 296/400\n",
            "8/8 [==============================] - 0s 7ms/step - loss: 27410.6875 - val_loss: 48628.1797\n",
            "Epoch 297/400\n",
            "8/8 [==============================] - 0s 6ms/step - loss: 26816.6230 - val_loss: 47947.8242\n",
            "Epoch 298/400\n",
            "8/8 [==============================] - 0s 9ms/step - loss: 26264.0801 - val_loss: 46697.1055\n",
            "Epoch 299/400\n",
            "8/8 [==============================] - 0s 6ms/step - loss: 25705.5645 - val_loss: 46002.4023\n",
            "Epoch 300/400\n",
            "8/8 [==============================] - 0s 6ms/step - loss: 25164.9922 - val_loss: 44938.1094\n",
            "Epoch 301/400\n",
            "8/8 [==============================] - 0s 6ms/step - loss: 24639.5879 - val_loss: 44214.5508\n",
            "Epoch 302/400\n",
            "8/8 [==============================] - 0s 6ms/step - loss: 24124.8828 - val_loss: 43466.4414\n",
            "Epoch 303/400\n",
            "8/8 [==============================] - 0s 8ms/step - loss: 23646.3652 - val_loss: 42386.5977\n",
            "Epoch 304/400\n",
            "8/8 [==============================] - 0s 8ms/step - loss: 23151.1387 - val_loss: 41881.6445\n",
            "Epoch 305/400\n",
            "8/8 [==============================] - 0s 6ms/step - loss: 22673.2188 - val_loss: 41066.6250\n",
            "Epoch 306/400\n",
            "8/8 [==============================] - 0s 5ms/step - loss: 22219.5020 - val_loss: 40363.6328\n",
            "Epoch 307/400\n",
            "8/8 [==============================] - 0s 6ms/step - loss: 21777.9863 - val_loss: 39755.3789\n",
            "Epoch 308/400\n",
            "8/8 [==============================] - 0s 8ms/step - loss: 21354.5703 - val_loss: 38727.1523\n",
            "Epoch 309/400\n",
            "8/8 [==============================] - 0s 7ms/step - loss: 20918.6699 - val_loss: 38423.9961\n",
            "Epoch 310/400\n",
            "8/8 [==============================] - 0s 8ms/step - loss: 20518.0684 - val_loss: 37447.7148\n",
            "Epoch 311/400\n",
            "8/8 [==============================] - 0s 8ms/step - loss: 20103.1523 - val_loss: 36715.7734\n",
            "Epoch 312/400\n",
            "8/8 [==============================] - 0s 8ms/step - loss: 19721.0254 - val_loss: 36064.1172\n",
            "Epoch 313/400\n",
            "8/8 [==============================] - 0s 8ms/step - loss: 19326.6660 - val_loss: 35578.5430\n",
            "Epoch 314/400\n",
            "8/8 [==============================] - 0s 7ms/step - loss: 18986.5664 - val_loss: 35174.6406\n",
            "Epoch 315/400\n",
            "8/8 [==============================] - 0s 6ms/step - loss: 18638.7598 - val_loss: 33914.6719\n",
            "Epoch 316/400\n",
            "8/8 [==============================] - 0s 5ms/step - loss: 18250.3398 - val_loss: 33602.3789\n",
            "Epoch 317/400\n",
            "8/8 [==============================] - 0s 9ms/step - loss: 17900.2539 - val_loss: 33190.5781\n",
            "Epoch 318/400\n",
            "8/8 [==============================] - 0s 6ms/step - loss: 17590.7402 - val_loss: 32569.2305\n",
            "Epoch 319/400\n",
            "8/8 [==============================] - 0s 6ms/step - loss: 17253.2090 - val_loss: 32009.2227\n",
            "Epoch 320/400\n",
            "8/8 [==============================] - 0s 6ms/step - loss: 16925.5332 - val_loss: 31552.9238\n",
            "Epoch 321/400\n",
            "8/8 [==============================] - 0s 8ms/step - loss: 16625.3184 - val_loss: 31134.0039\n",
            "Epoch 322/400\n",
            "8/8 [==============================] - 0s 6ms/step - loss: 16328.6992 - val_loss: 30536.7188\n",
            "Epoch 323/400\n",
            "8/8 [==============================] - 0s 6ms/step - loss: 16016.6309 - val_loss: 29707.1758\n",
            "Epoch 324/400\n",
            "8/8 [==============================] - 0s 8ms/step - loss: 15735.3955 - val_loss: 29264.2051\n",
            "Epoch 325/400\n",
            "8/8 [==============================] - 0s 7ms/step - loss: 15471.3320 - val_loss: 28631.2930\n",
            "Epoch 326/400\n",
            "8/8 [==============================] - 0s 7ms/step - loss: 15184.6113 - val_loss: 28455.1250\n",
            "Epoch 327/400\n",
            "8/8 [==============================] - 0s 8ms/step - loss: 14916.5391 - val_loss: 27919.6289\n",
            "Epoch 328/400\n",
            "8/8 [==============================] - 0s 6ms/step - loss: 14667.2725 - val_loss: 27469.4102\n",
            "Epoch 329/400\n",
            "8/8 [==============================] - 0s 6ms/step - loss: 14407.7734 - val_loss: 27243.4043\n",
            "Epoch 330/400\n",
            "8/8 [==============================] - 0s 6ms/step - loss: 14164.5801 - val_loss: 26409.7969\n",
            "Epoch 331/400\n",
            "8/8 [==============================] - 0s 8ms/step - loss: 13927.0312 - val_loss: 26001.6230\n",
            "Epoch 332/400\n",
            "8/8 [==============================] - 0s 8ms/step - loss: 13694.2188 - val_loss: 25462.6133\n",
            "Epoch 333/400\n",
            "8/8 [==============================] - 0s 7ms/step - loss: 13461.3232 - val_loss: 25427.4023\n",
            "Epoch 334/400\n",
            "8/8 [==============================] - 0s 6ms/step - loss: 13237.0918 - val_loss: 25043.9766\n",
            "Epoch 335/400\n",
            "8/8 [==============================] - 0s 5ms/step - loss: 13030.7471 - val_loss: 24392.6387\n",
            "Epoch 336/400\n",
            "8/8 [==============================] - 0s 9ms/step - loss: 12809.9072 - val_loss: 24268.9980\n",
            "Epoch 337/400\n",
            "8/8 [==============================] - 0s 7ms/step - loss: 12618.0166 - val_loss: 23527.9883\n",
            "Epoch 338/400\n",
            "8/8 [==============================] - 0s 6ms/step - loss: 12395.1826 - val_loss: 23475.9590\n",
            "Epoch 339/400\n",
            "8/8 [==============================] - 0s 6ms/step - loss: 12200.0352 - val_loss: 22977.1699\n",
            "Epoch 340/400\n",
            "8/8 [==============================] - 0s 8ms/step - loss: 12007.4570 - val_loss: 22564.5449\n",
            "Epoch 341/400\n",
            "8/8 [==============================] - 0s 6ms/step - loss: 11807.5771 - val_loss: 22242.6289\n",
            "Epoch 342/400\n",
            "8/8 [==============================] - 0s 6ms/step - loss: 11623.1729 - val_loss: 21967.1465\n",
            "Epoch 343/400\n",
            "8/8 [==============================] - 0s 8ms/step - loss: 11447.5068 - val_loss: 21606.2773\n",
            "Epoch 344/400\n",
            "8/8 [==============================] - 0s 8ms/step - loss: 11270.4883 - val_loss: 21404.9805\n",
            "Epoch 345/400\n",
            "8/8 [==============================] - 0s 7ms/step - loss: 11087.9775 - val_loss: 20852.3145\n",
            "Epoch 346/400\n",
            "8/8 [==============================] - 0s 6ms/step - loss: 10923.4580 - val_loss: 20478.4199\n",
            "Epoch 347/400\n",
            "8/8 [==============================] - 0s 8ms/step - loss: 10768.9229 - val_loss: 20069.0566\n",
            "Epoch 348/400\n",
            "8/8 [==============================] - 0s 8ms/step - loss: 10594.6855 - val_loss: 20042.9980\n",
            "Epoch 349/400\n",
            "8/8 [==============================] - 0s 6ms/step - loss: 10451.1045 - val_loss: 19527.7715\n",
            "Epoch 350/400\n",
            "8/8 [==============================] - 0s 8ms/step - loss: 10286.6650 - val_loss: 19563.5781\n",
            "Epoch 351/400\n",
            "8/8 [==============================] - 0s 8ms/step - loss: 10130.9609 - val_loss: 19109.6094\n",
            "Epoch 352/400\n",
            "8/8 [==============================] - 0s 9ms/step - loss: 9981.7695 - val_loss: 18785.3652\n",
            "Epoch 353/400\n",
            "8/8 [==============================] - 0s 6ms/step - loss: 9843.4062 - val_loss: 18325.5938\n",
            "Epoch 354/400\n",
            "8/8 [==============================] - 0s 7ms/step - loss: 9696.5654 - val_loss: 18256.5195\n",
            "Epoch 355/400\n",
            "8/8 [==============================] - 0s 9ms/step - loss: 9561.7949 - val_loss: 18040.1270\n",
            "Epoch 356/400\n",
            "8/8 [==============================] - 0s 7ms/step - loss: 9435.6270 - val_loss: 17480.1680\n",
            "Epoch 357/400\n",
            "8/8 [==============================] - 0s 9ms/step - loss: 9287.6650 - val_loss: 17398.6133\n",
            "Epoch 358/400\n",
            "8/8 [==============================] - 0s 6ms/step - loss: 9154.6045 - val_loss: 17229.8320\n",
            "Epoch 359/400\n",
            "8/8 [==============================] - 0s 6ms/step - loss: 9030.6758 - val_loss: 17007.8770\n",
            "Epoch 360/400\n",
            "8/8 [==============================] - 0s 10ms/step - loss: 8902.3027 - val_loss: 16623.3945\n",
            "Epoch 361/400\n",
            "8/8 [==============================] - 0s 8ms/step - loss: 8784.8145 - val_loss: 16357.6338\n",
            "Epoch 362/400\n",
            "8/8 [==============================] - 0s 8ms/step - loss: 8666.7422 - val_loss: 16309.3721\n",
            "Epoch 363/400\n",
            "8/8 [==============================] - 0s 6ms/step - loss: 8552.5498 - val_loss: 15980.6572\n",
            "Epoch 364/400\n",
            "8/8 [==============================] - 0s 8ms/step - loss: 8439.3604 - val_loss: 15655.3105\n",
            "Epoch 365/400\n",
            "8/8 [==============================] - 0s 8ms/step - loss: 8320.2031 - val_loss: 15538.2803\n",
            "Epoch 366/400\n",
            "8/8 [==============================] - 0s 6ms/step - loss: 8208.4590 - val_loss: 15351.8877\n",
            "Epoch 367/400\n",
            "8/8 [==============================] - 0s 6ms/step - loss: 8104.8008 - val_loss: 15144.0410\n",
            "Epoch 368/400\n",
            "8/8 [==============================] - 0s 6ms/step - loss: 8000.9663 - val_loss: 14852.2412\n",
            "Epoch 369/400\n",
            "8/8 [==============================] - 0s 6ms/step - loss: 7896.6870 - val_loss: 14623.5088\n",
            "Epoch 370/400\n",
            "8/8 [==============================] - 0s 7ms/step - loss: 7803.1904 - val_loss: 14441.2041\n",
            "Epoch 371/400\n",
            "8/8 [==============================] - 0s 8ms/step - loss: 7700.0791 - val_loss: 14325.7441\n",
            "Epoch 372/400\n",
            "8/8 [==============================] - 0s 8ms/step - loss: 7617.0347 - val_loss: 13967.0283\n",
            "Epoch 373/400\n",
            "8/8 [==============================] - 0s 6ms/step - loss: 7504.9858 - val_loss: 13993.8545\n",
            "Epoch 374/400\n",
            "8/8 [==============================] - 0s 6ms/step - loss: 7418.7524 - val_loss: 13726.8311\n",
            "Epoch 375/400\n",
            "8/8 [==============================] - 0s 8ms/step - loss: 7326.6602 - val_loss: 13593.4688\n",
            "Epoch 376/400\n",
            "8/8 [==============================] - 0s 6ms/step - loss: 7237.2466 - val_loss: 13330.6133\n",
            "Epoch 377/400\n",
            "8/8 [==============================] - 0s 6ms/step - loss: 7157.6479 - val_loss: 12990.1123\n",
            "Epoch 378/400\n",
            "8/8 [==============================] - 0s 6ms/step - loss: 7066.0283 - val_loss: 12907.0078\n",
            "Epoch 379/400\n",
            "8/8 [==============================] - 0s 8ms/step - loss: 6984.5020 - val_loss: 12761.4229\n",
            "Epoch 380/400\n",
            "8/8 [==============================] - 0s 7ms/step - loss: 6902.0693 - val_loss: 12611.4229\n",
            "Epoch 381/400\n",
            "8/8 [==============================] - 0s 7ms/step - loss: 6823.3062 - val_loss: 12578.7773\n",
            "Epoch 382/400\n",
            "8/8 [==============================] - 0s 7ms/step - loss: 6746.4800 - val_loss: 12249.2402\n",
            "Epoch 383/400\n",
            "8/8 [==============================] - 0s 9ms/step - loss: 6666.3335 - val_loss: 12054.4580\n",
            "Epoch 384/400\n",
            "8/8 [==============================] - 0s 6ms/step - loss: 6596.1016 - val_loss: 11983.6650\n",
            "Epoch 385/400\n",
            "8/8 [==============================] - 0s 9ms/step - loss: 6520.1465 - val_loss: 11794.1504\n",
            "Epoch 386/400\n",
            "8/8 [==============================] - 0s 9ms/step - loss: 6451.3315 - val_loss: 11546.8691\n",
            "Epoch 387/400\n",
            "8/8 [==============================] - 0s 7ms/step - loss: 6381.1704 - val_loss: 11445.2354\n",
            "Epoch 388/400\n",
            "8/8 [==============================] - 0s 6ms/step - loss: 6316.4253 - val_loss: 11464.0742\n",
            "Epoch 389/400\n",
            "8/8 [==============================] - 0s 7ms/step - loss: 6243.9268 - val_loss: 11258.1904\n",
            "Epoch 390/400\n",
            "8/8 [==============================] - 0s 7ms/step - loss: 6179.6416 - val_loss: 10981.1719\n",
            "Epoch 391/400\n",
            "8/8 [==============================] - 0s 6ms/step - loss: 6121.7729 - val_loss: 10905.5176\n",
            "Epoch 392/400\n",
            "8/8 [==============================] - 0s 8ms/step - loss: 6053.4692 - val_loss: 10832.7451\n",
            "Epoch 393/400\n",
            "8/8 [==============================] - 0s 8ms/step - loss: 5989.4526 - val_loss: 10671.4434\n",
            "Epoch 394/400\n",
            "8/8 [==============================] - 0s 8ms/step - loss: 5931.1704 - val_loss: 10507.2773\n",
            "Epoch 395/400\n",
            "8/8 [==============================] - 0s 6ms/step - loss: 5872.3037 - val_loss: 10383.3730\n",
            "Epoch 396/400\n",
            "8/8 [==============================] - 0s 6ms/step - loss: 5815.8638 - val_loss: 10275.1309\n",
            "Epoch 397/400\n",
            "8/8 [==============================] - 0s 6ms/step - loss: 5759.9434 - val_loss: 10144.1143\n",
            "Epoch 398/400\n",
            "8/8 [==============================] - 0s 8ms/step - loss: 5702.8379 - val_loss: 10028.2598\n",
            "Epoch 399/400\n",
            "8/8 [==============================] - 0s 9ms/step - loss: 5651.5908 - val_loss: 9872.1123\n",
            "Epoch 400/400\n",
            "8/8 [==============================] - 0s 7ms/step - loss: 5606.5381 - val_loss: 9696.1592\n"
          ]
        },
        {
          "output_type": "execute_result",
          "data": {
            "text/plain": [
              "<keras.callbacks.History at 0x7fba997aa110>"
            ]
          },
          "metadata": {},
          "execution_count": 15
        }
      ]
    },
    {
      "cell_type": "code",
      "metadata": {
        "id": "4UoqRU405F45"
      },
      "source": [
        "losses = pd.DataFrame(model.history.history)"
      ],
      "execution_count": null,
      "outputs": []
    },
    {
      "cell_type": "code",
      "metadata": {
        "colab": {
          "base_uri": "https://localhost:8080/",
          "height": 620
        },
        "id": "qwv7BjwN5XGP",
        "outputId": "e6fcfb3c-a371-4b76-9c10-fff39dddc366"
      },
      "source": [
        "losses.plot()"
      ],
      "execution_count": null,
      "outputs": [
        {
          "output_type": "execute_result",
          "data": {
            "text/plain": [
              "<matplotlib.axes._subplots.AxesSubplot at 0x7fba9961bf90>"
            ]
          },
          "metadata": {},
          "execution_count": 17
        },
        {
          "output_type": "display_data",
          "data": {
            "image/png": "[encoded data removed]",
            "text/plain": [
              "<Figure size 1440x720 with 1 Axes>"
            ]
          },
          "metadata": {
            "needs_background": "light"
          }
        }
      ]
    },
    {
      "cell_type": "code",
      "metadata": {
        "id": "JUWD-hjg5Yv8"
      },
      "source": [
        "from sklearn.metrics import mean_squared_error,mean_absolute_error,explained_variance_score,r2_score"
      ],
      "execution_count": null,
      "outputs": []
    },
    {
      "cell_type": "code",
      "metadata": {
        "colab": {
          "base_uri": "https://localhost:8080/"
        },
        "id": "Y4sh6TJ55mtp",
        "outputId": "926906c8-4598-41d9-997e-281de57c2423"
      },
      "source": [
        "rescaledX_test"
      ],
      "execution_count": null,
      "outputs": [
        {
          "output_type": "execute_result",
          "data": {
            "text/plain": [
              "array([[0.42085113, 0.43917237, 0.42159847, 0.13915094],\n",
              "       [0.02497057, 0.01905775, 0.        , 0.21543337],\n",
              "       [0.24255266, 0.26591275, 0.24765894, 0.12721108],\n",
              "       ...,\n",
              "       [0.59113505, 0.59678375, 0.58483214, 0.47361439],\n",
              "       [0.21414929, 0.22840822, 0.2127155 , 0.11298644],\n",
              "       [0.3707233 , 0.38920893, 0.37280171, 0.15713443]])"
            ]
          },
          "metadata": {},
          "execution_count": 19
        }
      ]
    },
    {
      "cell_type": "code",
      "metadata": {
        "id": "qCeokOpE5vdI"
      },
      "source": [
        "predictions = model.predict(rescaledX_test)"
      ],
      "execution_count": null,
      "outputs": []
    },
    {
      "cell_type": "code",
      "metadata": {
        "colab": {
          "base_uri": "https://localhost:8080/"
        },
        "id": "aoCYBuyz5zvB",
        "outputId": "2a603a24-9bc0-42df-8ad5-d6b5f0f9bd0d"
      },
      "source": [
        "mean_absolute_error(y_test,predictions)"
      ],
      "execution_count": null,
      "outputs": [
        {
          "output_type": "execute_result",
          "data": {
            "text/plain": [
              "61.115748116023894"
            ]
          },
          "metadata": {},
          "execution_count": 21
        }
      ]
    },
    {
      "cell_type": "code",
      "metadata": {
        "colab": {
          "base_uri": "https://localhost:8080/"
        },
        "id": "2OEs5CCj53gc",
        "outputId": "4452f9b2-7ece-4f76-acf9-929112bbdef8"
      },
      "source": [
        "np.sqrt(mean_squared_error(y_test,predictions))"
      ],
      "execution_count": null,
      "outputs": [
        {
          "output_type": "execute_result",
          "data": {
            "text/plain": [
              "79.9637064518434"
            ]
          },
          "metadata": {},
          "execution_count": 22
        }
      ]
    },
    {
      "cell_type": "code",
      "metadata": {
        "colab": {
          "base_uri": "https://localhost:8080/"
        },
        "id": "0W_eSuRz6MU5",
        "outputId": "3d1b9e83-ae8e-4d6d-faf5-f5a7ac315630"
      },
      "source": [
        "r2_score(y_test,predictions)"
      ],
      "execution_count": null,
      "outputs": [
        {
          "output_type": "execute_result",
          "data": {
            "text/plain": [
              "0.9959096307532929"
            ]
          },
          "metadata": {},
          "execution_count": 23
        }
      ]
    },
    {
      "cell_type": "code",
      "metadata": {
        "colab": {
          "base_uri": "https://localhost:8080/"
        },
        "id": "w4_ccgpA6d5S",
        "outputId": "42f2f724-1d2e-4366-8486-99289c7607d7"
      },
      "source": [
        "df.corr()['Open'].sort_values()"
      ],
      "execution_count": null,
      "outputs": [
        {
          "output_type": "execute_result",
          "data": {
            "text/plain": [
              "Volume    0.503008\n",
              "Close     0.998266\n",
              "Low       0.999009\n",
              "High      0.999164\n",
              "Open      1.000000\n",
              "Name: Open, dtype: float64"
            ]
          },
          "metadata": {},
          "execution_count": 24
        }
      ]
    },
    {
      "cell_type": "code",
      "metadata": {
        "id": "VafDBW0867BR"
      },
      "source": [
        "df['Date'] = pd.to_datetime(df.Date,format='%Y-%m-%d')\n",
        "df.index = df['Date']\n",
        "\n",
        "#creating dataframe with date and the target variable\n",
        "data = df.sort_index(ascending=True, axis=0)\n",
        "new_data = pd.DataFrame(index=range(0,len(df)),columns=['Date', 'Close'])\n"
      ],
      "execution_count": null,
      "outputs": []
    },
    {
      "cell_type": "code",
      "metadata": {
        "id": "0swZc7MSbFoO"
      },
      "source": [
        "for i in range(0,len(data)):\n",
        "     new_data['Date'][i] = data['Date'][i]\n",
        "     new_data['Close'][i] = data['Close'][i]"
      ],
      "execution_count": null,
      "outputs": []
    },
    {
      "cell_type": "code",
      "metadata": {
        "colab": {
          "base_uri": "https://localhost:8080/",
          "height": 234
        },
        "id": "Q0H3LI4TbKqf",
        "outputId": "af71e2bd-000d-4e25-a45c-364eefe86de7"
      },
      "source": [
        "data.head()"
      ],
      "execution_count": null,
      "outputs": [
        {
          "output_type": "execute_result",
          "data": {
            "text/html": [
              "<div>\n",
              "<style scoped>\n",
              "    .dataframe tbody tr th:only-of-type {\n",
              "        vertical-align: middle;\n",
              "    }\n",
              "\n",
              "    .dataframe tbody tr th {\n",
              "        vertical-align: top;\n",
              "    }\n",
              "\n",
              "    .dataframe thead th {\n",
              "        text-align: right;\n",
              "    }\n",
              "</style>\n",
              "<table border=\"1\" class=\"dataframe\">\n",
              "  <thead>\n",
              "    <tr style=\"text-align: right;\">\n",
              "      <th></th>\n",
              "      <th>Date</th>\n",
              "      <th>Open</th>\n",
              "      <th>High</th>\n",
              "      <th>Low</th>\n",
              "      <th>Close</th>\n",
              "      <th>Volume</th>\n",
              "    </tr>\n",
              "    <tr>\n",
              "      <th>Date</th>\n",
              "      <th></th>\n",
              "      <th></th>\n",
              "      <th></th>\n",
              "      <th></th>\n",
              "      <th></th>\n",
              "      <th></th>\n",
              "    </tr>\n",
              "  </thead>\n",
              "  <tbody>\n",
              "    <tr>\n",
              "      <th>2015-01-02</th>\n",
              "      <td>2015-01-02</td>\n",
              "      <td>8288.700195</td>\n",
              "      <td>8410.599609</td>\n",
              "      <td>8288.700195</td>\n",
              "      <td>8395.450195</td>\n",
              "      <td>101900.0</td>\n",
              "    </tr>\n",
              "    <tr>\n",
              "      <th>2015-01-05</th>\n",
              "      <td>2015-01-05</td>\n",
              "      <td>8407.950195</td>\n",
              "      <td>8445.599609</td>\n",
              "      <td>8363.900391</td>\n",
              "      <td>8378.400391</td>\n",
              "      <td>118200.0</td>\n",
              "    </tr>\n",
              "    <tr>\n",
              "      <th>2015-01-06</th>\n",
              "      <td>2015-01-06</td>\n",
              "      <td>8325.299805</td>\n",
              "      <td>8327.849609</td>\n",
              "      <td>8111.350098</td>\n",
              "      <td>8127.350098</td>\n",
              "      <td>172800.0</td>\n",
              "    </tr>\n",
              "    <tr>\n",
              "      <th>2015-01-07</th>\n",
              "      <td>2015-01-07</td>\n",
              "      <td>8118.649902</td>\n",
              "      <td>8151.200195</td>\n",
              "      <td>8065.450195</td>\n",
              "      <td>8102.100098</td>\n",
              "      <td>164100.0</td>\n",
              "    </tr>\n",
              "    <tr>\n",
              "      <th>2015-01-08</th>\n",
              "      <td>2015-01-08</td>\n",
              "      <td>8191.399902</td>\n",
              "      <td>8243.500000</td>\n",
              "      <td>8167.299805</td>\n",
              "      <td>8234.599609</td>\n",
              "      <td>143800.0</td>\n",
              "    </tr>\n",
              "  </tbody>\n",
              "</table>\n",
              "</div>"
            ],
            "text/plain": [
              "                 Date         Open  ...        Close    Volume\n",
              "Date                                ...                       \n",
              "2015-01-02 2015-01-02  8288.700195  ...  8395.450195  101900.0\n",
              "2015-01-05 2015-01-05  8407.950195  ...  8378.400391  118200.0\n",
              "2015-01-06 2015-01-06  8325.299805  ...  8127.350098  172800.0\n",
              "2015-01-07 2015-01-07  8118.649902  ...  8102.100098  164100.0\n",
              "2015-01-08 2015-01-08  8191.399902  ...  8234.599609  143800.0\n",
              "\n",
              "[5 rows x 6 columns]"
            ]
          },
          "metadata": {},
          "execution_count": 27
        }
      ]
    },
    {
      "cell_type": "code",
      "metadata": {
        "colab": {
          "base_uri": "https://localhost:8080/",
          "height": 203
        },
        "id": "LpzdnA57bNSN",
        "outputId": "3ba9fa82-911e-4e8a-aa37-bc85245fa699"
      },
      "source": [
        "new_data.head()"
      ],
      "execution_count": null,
      "outputs": [
        {
          "output_type": "execute_result",
          "data": {
            "text/html": [
              "<div>\n",
              "<style scoped>\n",
              "    .dataframe tbody tr th:only-of-type {\n",
              "        vertical-align: middle;\n",
              "    }\n",
              "\n",
              "    .dataframe tbody tr th {\n",
              "        vertical-align: top;\n",
              "    }\n",
              "\n",
              "    .dataframe thead th {\n",
              "        text-align: right;\n",
              "    }\n",
              "</style>\n",
              "<table border=\"1\" class=\"dataframe\">\n",
              "  <thead>\n",
              "    <tr style=\"text-align: right;\">\n",
              "      <th></th>\n",
              "      <th>Date</th>\n",
              "      <th>Close</th>\n",
              "    </tr>\n",
              "  </thead>\n",
              "  <tbody>\n",
              "    <tr>\n",
              "      <th>0</th>\n",
              "      <td>2015-01-02 00:00:00</td>\n",
              "      <td>8395.45</td>\n",
              "    </tr>\n",
              "    <tr>\n",
              "      <th>1</th>\n",
              "      <td>2015-01-05 00:00:00</td>\n",
              "      <td>8378.4</td>\n",
              "    </tr>\n",
              "    <tr>\n",
              "      <th>2</th>\n",
              "      <td>2015-01-06 00:00:00</td>\n",
              "      <td>8127.35</td>\n",
              "    </tr>\n",
              "    <tr>\n",
              "      <th>3</th>\n",
              "      <td>2015-01-07 00:00:00</td>\n",
              "      <td>8102.1</td>\n",
              "    </tr>\n",
              "    <tr>\n",
              "      <th>4</th>\n",
              "      <td>2015-01-08 00:00:00</td>\n",
              "      <td>8234.6</td>\n",
              "    </tr>\n",
              "  </tbody>\n",
              "</table>\n",
              "</div>"
            ],
            "text/plain": [
              "                  Date    Close\n",
              "0  2015-01-02 00:00:00  8395.45\n",
              "1  2015-01-05 00:00:00   8378.4\n",
              "2  2015-01-06 00:00:00  8127.35\n",
              "3  2015-01-07 00:00:00   8102.1\n",
              "4  2015-01-08 00:00:00   8234.6"
            ]
          },
          "metadata": {},
          "execution_count": 28
        }
      ]
    },
    {
      "cell_type": "code",
      "metadata": {
        "colab": {
          "base_uri": "https://localhost:8080/"
        },
        "id": "yeJR-tASbRwf",
        "outputId": "77a379d7-4c3b-4260-b769-a9d70007b70c"
      },
      "source": [
        "new_data.shape"
      ],
      "execution_count": null,
      "outputs": [
        {
          "output_type": "execute_result",
          "data": {
            "text/plain": [
              "(1479, 2)"
            ]
          },
          "metadata": {},
          "execution_count": 29
        }
      ]
    },
    {
      "cell_type": "code",
      "metadata": {
        "id": "fLqSkGKKbo1m"
      },
      "source": [
        "train = new_data[:1036]\n",
        "valid = new_data[1036:]"
      ],
      "execution_count": null,
      "outputs": []
    },
    {
      "cell_type": "code",
      "metadata": {
        "id": "TKV1rQGUb23c"
      },
      "source": [
        "from sklearn.preprocessing import MinMaxScaler\n",
        "from keras.models import Sequential\n",
        "from keras.layers import Dense, Dropout, LSTM"
      ],
      "execution_count": null,
      "outputs": []
    },
    {
      "cell_type": "code",
      "metadata": {
        "id": "E3b0aPP7cIfO"
      },
      "source": [
        "new_data.index = new_data.Date\n",
        "new_data.drop('Date', axis=1, inplace=True)"
      ],
      "execution_count": null,
      "outputs": []
    },
    {
      "cell_type": "code",
      "metadata": {
        "id": "8tumGxl5cMQZ"
      },
      "source": [
        "dataset = new_data.values\n",
        "\n",
        "train = dataset[0:1036,:]\n",
        "valid = dataset[1036:,:]\n",
        "\n",
        "#converting dataset into x_train and y_train\n",
        "scaler = MinMaxScaler(feature_range=(0, 1))\n",
        "scaled_data = scaler.fit_transform(dataset)"
      ],
      "execution_count": null,
      "outputs": []
    },
    {
      "cell_type": "code",
      "metadata": {
        "colab": {
          "base_uri": "https://localhost:8080/"
        },
        "id": "LvhouNI0cVdd",
        "outputId": "0c271cf4-cfaf-4d66-cecb-04aa429f464c"
      },
      "source": [
        "x_train, y_train = [], []\n",
        "for i in range(60,len(train)):\n",
        "    x_train.append(scaled_data[i-60:i,0])\n",
        "    y_train.append(scaled_data[i,0])\n",
        "x_train, y_train = np.array(x_train), np.array(y_train)\n",
        "\n",
        "x_train = np.reshape(x_train, (x_train.shape[0],x_train.shape[1],1))\n",
        "\n",
        "# create and fit the LSTM network\n",
        "model = Sequential()\n",
        "model.add(LSTM(units=50, return_sequences=True, input_shape=(x_train.shape[1],1)))\n",
        "model.add(LSTM(units=50))\n",
        "model.add(Dense(1))\n",
        "model.compile(loss='mean_squared_error', optimizer='adam')\n",
        "model.fit(x_train, y_train, epochs=1, batch_size=1, verbose=2)\n"
      ],
      "execution_count": null,
      "outputs": [
        {
          "output_type": "stream",
          "name": "stdout",
          "text": [
            "976/976 - 24s - loss: 0.0022\n"
          ]
        },
        {
          "output_type": "execute_result",
          "data": {
            "text/plain": [
              "<keras.callbacks.History at 0x7fee645bd510>"
            ]
          },
          "metadata": {},
          "execution_count": 35
        }
      ]
    },
    {
      "cell_type": "code",
      "metadata": {
        "id": "b37efMeWcktr"
      },
      "source": [
        "inputs = new_data[len(new_data) - len(valid) - 60:].values\n",
        "inputs = inputs.reshape(-1,1)\n",
        "inputs  = scaler.transform(inputs)\n",
        "\n",
        "X_test = []\n",
        "for i in range(60,inputs.shape[0]):\n",
        "    X_test.append(inputs[i-60:i,0])\n",
        "X_test = np.array(X_test)\n",
        "\n",
        "X_test = np.reshape(X_test, (X_test.shape[0],X_test.shape[1],1))\n",
        "closing_price = model.predict(X_test)\n",
        "closing_price = scaler.inverse_transform(closing_price)"
      ],
      "execution_count": null,
      "outputs": []
    },
    {
      "cell_type": "code",
      "metadata": {
        "colab": {
          "base_uri": "https://localhost:8080/"
        },
        "id": "ov25DTtXcsK5",
        "outputId": "0c23545e-cbf5-4e20-ebf7-f3d8a187d24d"
      },
      "source": [
        "rms=np.sqrt(np.mean(np.power((valid-closing_price),2)))\n",
        "rms"
      ],
      "execution_count": null,
      "outputs": [
        {
          "output_type": "execute_result",
          "data": {
            "text/plain": [
              "507.7656503818403"
            ]
          },
          "metadata": {},
          "execution_count": 38
        }
      ]
    },
    {
      "cell_type": "code",
      "metadata": {
        "colab": {
          "base_uri": "https://localhost:8080/",
          "height": 314
        },
        "id": "fFwNrtpdc6ID",
        "outputId": "a0afcbee-4c22-477e-c767-2e82e033d243"
      },
      "source": [
        "df1=df.reset_index()['Close']"
      ],
      "execution_count": null,
      "outputs": [
        {
          "output_type": "error",
          "ename": "ValueError",
          "evalue": "ignored",
          "traceback": [
            "\u001b[0;31m---------------------------------------------------------------------------\u001b[0m",
            "\u001b[0;31mValueError\u001b[0m                                Traceback (most recent call last)",
            "\u001b[0;32m<ipython-input-41-1aa6aaf9ee86>\u001b[0m in \u001b[0;36m<module>\u001b[0;34m()\u001b[0m\n\u001b[0;32m----> 1\u001b[0;31m \u001b[0mdf1\u001b[0m\u001b[0;34m=\u001b[0m\u001b[0mdf\u001b[0m\u001b[0;34m.\u001b[0m\u001b[0mreset_index\u001b[0m\u001b[0;34m(\u001b[0m\u001b[0;34m)\u001b[0m\u001b[0;34m[\u001b[0m\u001b[0;34m'Close'\u001b[0m\u001b[0;34m]\u001b[0m\u001b[0;34m\u001b[0m\u001b[0;34m\u001b[0m\u001b[0m\n\u001b[0m",
            "\u001b[0;32m/usr/local/lib/python3.7/dist-packages/pandas/core/frame.py\u001b[0m in \u001b[0;36mreset_index\u001b[0;34m(self, level, drop, inplace, col_level, col_fill)\u001b[0m\n\u001b[1;32m   4857\u001b[0m                 \u001b[0;31m# to ndarray and maybe infer different dtype\u001b[0m\u001b[0;34m\u001b[0m\u001b[0;34m\u001b[0m\u001b[0;34m\u001b[0m\u001b[0m\n\u001b[1;32m   4858\u001b[0m                 \u001b[0mlevel_values\u001b[0m \u001b[0;34m=\u001b[0m \u001b[0m_maybe_casted_values\u001b[0m\u001b[0;34m(\u001b[0m\u001b[0mlev\u001b[0m\u001b[0;34m,\u001b[0m \u001b[0mlab\u001b[0m\u001b[0;34m)\u001b[0m\u001b[0;34m\u001b[0m\u001b[0;34m\u001b[0m\u001b[0m\n\u001b[0;32m-> 4859\u001b[0;31m                 \u001b[0mnew_obj\u001b[0m\u001b[0;34m.\u001b[0m\u001b[0minsert\u001b[0m\u001b[0;34m(\u001b[0m\u001b[0;36m0\u001b[0m\u001b[0;34m,\u001b[0m \u001b[0mname\u001b[0m\u001b[0;34m,\u001b[0m \u001b[0mlevel_values\u001b[0m\u001b[0;34m)\u001b[0m\u001b[0;34m\u001b[0m\u001b[0;34m\u001b[0m\u001b[0m\n\u001b[0m\u001b[1;32m   4860\u001b[0m \u001b[0;34m\u001b[0m\u001b[0m\n\u001b[1;32m   4861\u001b[0m         \u001b[0mnew_obj\u001b[0m\u001b[0;34m.\u001b[0m\u001b[0mindex\u001b[0m \u001b[0;34m=\u001b[0m \u001b[0mnew_index\u001b[0m\u001b[0;34m\u001b[0m\u001b[0;34m\u001b[0m\u001b[0m\n",
            "\u001b[0;32m/usr/local/lib/python3.7/dist-packages/pandas/core/frame.py\u001b[0m in \u001b[0;36minsert\u001b[0;34m(self, loc, column, value, allow_duplicates)\u001b[0m\n\u001b[1;32m   3626\u001b[0m         \u001b[0mself\u001b[0m\u001b[0;34m.\u001b[0m\u001b[0m_ensure_valid_index\u001b[0m\u001b[0;34m(\u001b[0m\u001b[0mvalue\u001b[0m\u001b[0;34m)\u001b[0m\u001b[0;34m\u001b[0m\u001b[0;34m\u001b[0m\u001b[0m\n\u001b[1;32m   3627\u001b[0m         \u001b[0mvalue\u001b[0m \u001b[0;34m=\u001b[0m \u001b[0mself\u001b[0m\u001b[0;34m.\u001b[0m\u001b[0m_sanitize_column\u001b[0m\u001b[0;34m(\u001b[0m\u001b[0mcolumn\u001b[0m\u001b[0;34m,\u001b[0m \u001b[0mvalue\u001b[0m\u001b[0;34m,\u001b[0m \u001b[0mbroadcast\u001b[0m\u001b[0;34m=\u001b[0m\u001b[0;32mFalse\u001b[0m\u001b[0;34m)\u001b[0m\u001b[0;34m\u001b[0m\u001b[0;34m\u001b[0m\u001b[0m\n\u001b[0;32m-> 3628\u001b[0;31m         \u001b[0mself\u001b[0m\u001b[0;34m.\u001b[0m\u001b[0m_mgr\u001b[0m\u001b[0;34m.\u001b[0m\u001b[0minsert\u001b[0m\u001b[0;34m(\u001b[0m\u001b[0mloc\u001b[0m\u001b[0;34m,\u001b[0m \u001b[0mcolumn\u001b[0m\u001b[0;34m,\u001b[0m \u001b[0mvalue\u001b[0m\u001b[0;34m,\u001b[0m \u001b[0mallow_duplicates\u001b[0m\u001b[0;34m=\u001b[0m\u001b[0mallow_duplicates\u001b[0m\u001b[0;34m)\u001b[0m\u001b[0;34m\u001b[0m\u001b[0;34m\u001b[0m\u001b[0m\n\u001b[0m\u001b[1;32m   3629\u001b[0m \u001b[0;34m\u001b[0m\u001b[0m\n\u001b[1;32m   3630\u001b[0m     \u001b[0;32mdef\u001b[0m \u001b[0massign\u001b[0m\u001b[0;34m(\u001b[0m\u001b[0mself\u001b[0m\u001b[0;34m,\u001b[0m \u001b[0;34m**\u001b[0m\u001b[0mkwargs\u001b[0m\u001b[0;34m)\u001b[0m \u001b[0;34m->\u001b[0m \u001b[0;34m\"DataFrame\"\u001b[0m\u001b[0;34m:\u001b[0m\u001b[0;34m\u001b[0m\u001b[0;34m\u001b[0m\u001b[0m\n",
            "\u001b[0;32m/usr/local/lib/python3.7/dist-packages/pandas/core/internals/managers.py\u001b[0m in \u001b[0;36minsert\u001b[0;34m(self, loc, item, value, allow_duplicates)\u001b[0m\n\u001b[1;32m   1184\u001b[0m         \u001b[0;32mif\u001b[0m \u001b[0;32mnot\u001b[0m \u001b[0mallow_duplicates\u001b[0m \u001b[0;32mand\u001b[0m \u001b[0mitem\u001b[0m \u001b[0;32min\u001b[0m \u001b[0mself\u001b[0m\u001b[0;34m.\u001b[0m\u001b[0mitems\u001b[0m\u001b[0;34m:\u001b[0m\u001b[0;34m\u001b[0m\u001b[0;34m\u001b[0m\u001b[0m\n\u001b[1;32m   1185\u001b[0m             \u001b[0;31m# Should this be a different kind of error??\u001b[0m\u001b[0;34m\u001b[0m\u001b[0;34m\u001b[0m\u001b[0;34m\u001b[0m\u001b[0m\n\u001b[0;32m-> 1186\u001b[0;31m             \u001b[0;32mraise\u001b[0m \u001b[0mValueError\u001b[0m\u001b[0;34m(\u001b[0m\u001b[0;34mf\"cannot insert {item}, already exists\"\u001b[0m\u001b[0;34m)\u001b[0m\u001b[0;34m\u001b[0m\u001b[0;34m\u001b[0m\u001b[0m\n\u001b[0m\u001b[1;32m   1187\u001b[0m \u001b[0;34m\u001b[0m\u001b[0m\n\u001b[1;32m   1188\u001b[0m         \u001b[0;32mif\u001b[0m \u001b[0;32mnot\u001b[0m \u001b[0misinstance\u001b[0m\u001b[0;34m(\u001b[0m\u001b[0mloc\u001b[0m\u001b[0;34m,\u001b[0m \u001b[0mint\u001b[0m\u001b[0;34m)\u001b[0m\u001b[0;34m:\u001b[0m\u001b[0;34m\u001b[0m\u001b[0;34m\u001b[0m\u001b[0m\n",
            "\u001b[0;31mValueError\u001b[0m: cannot insert Date, already exists"
          ]
        }
      ]
    },
    {
      "cell_type": "code",
      "metadata": {
        "id": "ktGNn-OfhvON"
      },
      "source": [],
      "execution_count": null,
      "outputs": []
    }
  ]
}